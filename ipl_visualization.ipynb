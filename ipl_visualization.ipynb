{
 "cells": [
  {
   "cell_type": "code",
   "execution_count": null,
   "id": "visualization-cell",
   "metadata": {},
   "outputs": [],
   "source": [
    "import pandas as pd\n",
    "import matplotlib.pyplot as plt\n",
    "import seaborn as sns\n",
    "\n",
    "df = pd.read_csv('data/ipl_2023_cleaned.csv')\n",
    "\n",
    "# Aggregate runs by batsman\n",
    "top_batsmen = df.groupby('player_name')['runs'].sum().sort_values(ascending=False).head(5)\n",
    "\n",
    "plt.figure(figsize=(8,5))\n",
    "sns.barplot(x=top_batsmen.values, y=top_batsmen.index, palette='magma')\n",
    "plt.title('Top 5 IPL 2023 Run Scorers')\n",
    "plt.xlabel('Total Runs')\n",
    "plt.ylabel('Player Name')\n",
    "plt.show()"
   ]
  }
 ],
 "metadata": {},
 "nbformat": 4,
 "nbformat_minor": 5
}