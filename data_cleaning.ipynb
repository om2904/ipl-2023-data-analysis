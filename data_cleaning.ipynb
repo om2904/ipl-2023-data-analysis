{
 "cells": [
  {
   "cell_type": "code",
   "execution_count": null,
   "id": "cleaning-cell",
   "metadata": {},
   "outputs": [],
   "source": [
    "import pandas as pd\n",
    "\n",
    "# Load IPL data\n",
    "df = pd.read_csv('data/ipl_2023.csv')\n",
    "\n",
    "# Check for null values\n",
    "print(df.isnull().sum())\n",
    "\n",
    "# Fill missing values or drop rows if necessary\n",
    "df.fillna({'runs': 0, 'player_name': 'Unknown'}, inplace=True)\n",
    "\n",
    "# Save cleaned data\n",
    "df.to_csv('data/ipl_2023_cleaned.csv', index=False)\n",
    "\n",
    "df.head()"
   ]
  }
 ],
 "metadata": {},
 "nbformat": 4,
 "nbformat_minor": 5
}